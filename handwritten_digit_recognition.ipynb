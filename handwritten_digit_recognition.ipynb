{
 "cells": [
  {
   "cell_type": "markdown",
   "metadata": {
    "id": "jgrx9BYz6ul3"
   },
   "source": [
    "# Handwritten Digit Recognition Project\n"
   ]
  },
  {
   "cell_type": "markdown",
   "metadata": {
    "id": "jgrx9BYz6ul3"
   },
   "source": [
    "# Importing required libraries\n"
   ]
  },
  {
   "cell_type": "code",
   "execution_count": 1,
   "metadata": {
    "id": "Rc2GcZH4r3Uq"
   },
   "outputs": [],
   "source": [
    "import keras\n",
    "\n",
    "from keras.datasets import mnist\n",
    "from keras.models import Sequential\n",
    "from keras.layers import Dense, Dropout, Flatten\n",
    "from keras.layers import Conv2D, MaxPooling2D\n",
    "from keras import backend as K\n",
    "import ssl\n",
    "ssl._create_default_https_context = ssl._create_unverified_context\n",
    "from keras.preprocessing.image import ImageDataGenerator\n",
    "import matplotlib.pyplot as plt\n",
    "%matplotlib inline"
   ]
  },
  {
   "cell_type": "markdown",
   "metadata": {
    "id": "HrH5FbOtwaqw"
   },
   "source": [
    "# Importing Dataset\n",
    "We are importing MNIST dataset and dividing data for training and testing of the model. `x_train` and `x_test` are the input data (images) for training and testing, respectively.\n",
    "`y_train` and `y_test` are the labels (target values) for the training and testing data, respectively"
   ]
  },
  {
   "cell_type": "code",
   "execution_count": 2,
   "metadata": {
    "colab": {
     "base_uri": "https://localhost:8080/"
    },
    "id": "fE_kqMH4sHUu",
    "outputId": "7004cb2b-a64e-470c-cdeb-bb499841349c"
   },
   "outputs": [
    {
     "name": "stdout",
     "output_type": "stream",
     "text": [
      "(60000, 28, 28) (60000,)\n"
     ]
    }
   ],
   "source": [
    "(x_train, y_train), (x_test, y_test) = mnist.load_data()\n",
    "print(x_train.shape, y_train.shape)"
   ]
  },
  {
   "cell_type": "code",
   "execution_count": 3,
   "metadata": {},
   "outputs": [
    {
     "data": {
      "image/png": "[encoded data removed]",
      "text/plain": [
       "<Figure size 640x480 with 9 Axes>"
      ]
     },
     "metadata": {},
     "output_type": "display_data"
    }
   ],
   "source": [
    "for i in range(9):\n",
    " plt.subplot(330 + 1 + i)\n",
    " plt.imshow(x_train[i], cmap=plt.get_cmap('gray'))\n",
    "# show the figure\n",
    "plt.show()"
   ]
  },
  {
   "cell_type": "markdown",
   "metadata": {
    "id": "dnM-P_5svlbj"
   },
   "source": [
    "# The Data Preprocessing\n",
    "We need to perform some basic operations and process the data to make it ready for our neural network.\n",
    "The current data is in 2D format with each image of dimension (28, 28), but CNN accepts data in 3D format so we need to reshape the data to add an extra dimenssion to make it (28, 28, 1).\n"
   ]
  },
  {
   "cell_type": "markdown",
   "metadata": {
    "id": "9kHB8wQmw9nJ"
   },
   "source": [
    "## Reshaping the data\n",
    "The `reshape` function is used to change the shape of the input data."
   ]
  },
  {
   "cell_type": "code",
   "execution_count": 4,
   "metadata": {
    "id": "QwKIyABtsMGP"
   },
   "outputs": [],
   "source": [
    "x_train = x_train.reshape(x_train.shape[0], 28, 28, 1)\n",
    "x_test = x_test.reshape(x_test.shape[0], 28, 28, 1)\n"
   ]
  },
  {
   "cell_type": "markdown",
   "metadata": {
    "id": "sHo_ywxmxOEy"
   },
   "source": [
    "## Classification of data\n",
    "We are now classifying the data into different categories. Since the dataset consists of handwritten digites from 0 to 9 we classify our data into 10 categories."
   ]
  },
  {
   "cell_type": "code",
   "execution_count": 5,
   "metadata": {
    "id": "oJiQcENDxMI1"
   },
   "outputs": [],
   "source": [
    "input_shape = (28, 28, 1)\n",
    "num_classes = 10\n"
   ]
  },
  {
   "cell_type": "markdown",
   "metadata": {
    "id": "2hx66LrWybfI"
   },
   "source": [
    "## One-hot encoding\n",
    "One-hot encoding is a technique used in classification tasks to convert categorical labels into a binary matrix representation. Each row in the matrix corresponds to a sample, and each column corresponds to a class. The column corresponding to the true class is marked with a 1, and the others are 0."
   ]
  },
  {
   "cell_type": "markdown",
   "metadata": {
    "id": "5eDEjeD6yn7u"
   },
   "source": [
    "`to_categorical` function from Keras is used to convert class vectors to binary class matrices.\n",
    "Since CNN expect data of type float32, we convert our data into the required format."
   ]
  },
  {
   "cell_type": "code",
   "execution_count": 6,
   "metadata": {
    "id": "0-PNNY5ryvxx"
   },
   "outputs": [],
   "source": [
    "y_train = keras.utils.to_categorical(y_train, num_classes)\n",
    "y_test = keras.utils.to_categorical(y_test, num_classes)\n",
    "x_train = x_train.astype('float32')\n",
    "x_test = x_test.astype('float32')\n"
   ]
  },
  {
   "cell_type": "markdown",
   "metadata": {
    "id": "F183xLeVzIW-"
   },
   "source": [
    "## Normalization of Pixel Values\n",
    "The pixel values of the images are normalized by dividing them by 255.\n",
    "Pixel values in typical images are often represented in the range of [0, 255], where 0 represents black and 255 represents white in an 8-bit grayscale image.\n",
    "Normalizing by 255 scales the pixel values to the range [0, 1]. This is useful because many activation functions and optimization algorithms work more effectively when input values are within a certain range, often close to zero."
   ]
  },
  {
   "cell_type": "code",
   "execution_count": 7,
   "metadata": {
    "id": "WhT5P37szkLQ"
   },
   "outputs": [],
   "source": [
    "x_train /= 255\n",
    "x_test /= 255"
   ]
  },
  {
   "cell_type": "markdown",
   "metadata": {
    "id": "pNE6ANeVz7lT"
   },
   "source": [
    "# Creating CNN model\n",
    "## Setting Hyperparameters:\n",
    "`batch_size`: The number of training examples utilized in one iteration. It's a hyperparameter that defines the number of samples to work through before updating the model's internal parameters.\n",
    "\n",
    "`num_classes`: The total number of classes in the classification problem.\n",
    "\n",
    "`epochs`: The number of times the entire training dataset is passed forward and backward through the neural network."
   ]
  },
  {
   "cell_type": "code",
   "execution_count": 8,
   "metadata": {
    "id": "dAgawlyS2TQD"
   },
   "outputs": [],
   "source": [
    "batch_size = 128\n",
    "num_classes = 10\n",
    "epochs = 10\n"
   ]
  },
  {
   "cell_type": "markdown",
   "metadata": {
    "id": "7_6WdQt-1ONI"
   },
   "source": [
    "Now we initialize sequential model, which is a linear stack of layers to which we add layers one by one in sequence."
   ]
  },
  {
   "cell_type": "code",
   "execution_count": 9,
   "metadata": {
    "id": "DPooethl2Vjr"
   },
   "outputs": [],
   "source": [
    "model = Sequential()"
   ]
  },
  {
   "cell_type": "markdown",
   "metadata": {
    "id": "LVFNkYob1ih1"
   },
   "source": [
    "## Adding Convolutional Layers\n",
    "`Conv2D` is a 2D convolution layer, which is a fundamental building block in CNNs. It applies a convolution operation to the input.\n",
    "\n",
    "Lets add first layer with 32 filters/kernels of size 3x3.\n",
    "\n",
    "`activation='relu'`: Rectified Linear Unit (ReLU) activation function is used to introduce non-linearity."
   ]
  },
  {
   "cell_type": "markdown",
   "metadata": {
    "id": "vjBZatn42FE2"
   },
   "source": [
    "`MaxPooling2D`: This layer is used for down-sampling or pooling. It reduces the spatial dimensions of the output volume.\n",
    "\n",
    "`Dropout`: A regularization technique. It randomly sets a fraction of input units to 0 at each update during training, which helps prevent overfitting."
   ]
  },
  {
   "cell_type": "code",
   "execution_count": 10,
   "metadata": {
    "id": "yuRjGQ8RsT4U"
   },
   "outputs": [],
   "source": [
    "\n",
    "model.add(Conv2D(64, kernel_size=(3, 3),activation='relu',input_shape=input_shape))\n",
    "model.add(Conv2D(64, (3, 3), activation='relu'))\n",
    "model.add(MaxPooling2D(pool_size=(2, 2)))\n",
    "model.add(Dropout(0.25))\n"
   ]
  },
  {
   "cell_type": "markdown",
   "metadata": {
    "id": "M21BUTbT2r4M"
   },
   "source": [
    "## Flattening Layers\n",
    "Flattening the input, transforming it into a one-dimensional array. This is necessary before connecting to a densely connected layer."
   ]
  },
  {
   "cell_type": "code",
   "execution_count": 11,
   "metadata": {
    "id": "u5bXybnU3uWH"
   },
   "outputs": [],
   "source": [
    "model.add(Flatten())\n"
   ]
  },
  {
   "cell_type": "markdown",
   "metadata": {
    "id": "aJxZQ-4u24lz"
   },
   "source": [
    "## Adding Dense Layers\n",
    "The first dense layer has 256 units with ReLU activation.\n",
    "Another dropout layer is added for regularization (to prevent overfitting).\n",
    "The final dense layer has `num_classes` units with a softmax activation function. Softmax is often used in the output layer for multi-class classification problems."
   ]
  },
  {
   "cell_type": "code",
   "execution_count": 12,
   "metadata": {
    "id": "fbdqyipD3yiv"
   },
   "outputs": [],
   "source": [
    "model.add(Dense(256, activation='relu'))\n",
    "model.add(Dropout(0.5))\n",
    "model.add(Dense(num_classes, activation='softmax'))\n"
   ]
  },
  {
   "cell_type": "markdown",
   "metadata": {
    "id": "Pah6J7So3Six"
   },
   "source": [
    "## Compiling the Model\n",
    "`compile` is used to configure the model for training.\n",
    "\n",
    "`categorical_crossentropy` is the loss function used for multi-class classification problems.\n",
    "\n",
    "`Adadelta` is an optimizer, which is a variant of stochastic gradient descent (SGD).\n",
    "The metric to be monitored during training is accuracy."
   ]
  },
  {
   "cell_type": "code",
   "execution_count": 13,
   "metadata": {
    "id": "8TG2em_s33sy"
   },
   "outputs": [
    {
     "name": "stderr",
     "output_type": "stream",
     "text": [
      "WARNING:absl:At this time, the v2.11+ optimizer `tf.keras.optimizers.Adadelta` runs slowly on M1/M2 Macs, please use the legacy Keras optimizer instead, located at `tf.keras.optimizers.legacy.Adadelta`.\n"
     ]
    }
   ],
   "source": [
    "model.compile(loss=keras.losses.categorical_crossentropy,optimizer=keras.optimizers.Adadelta(),metrics=['accuracy'])"
   ]
  },
  {
   "cell_type": "markdown",
   "metadata": {
    "id": "ldjJ-ijU4dPK"
   },
   "source": [
    "# Model Training\n",
    "Now that we have out model ready, we will start training it and keep checking accuracy.\n",
    "\n",
    "`model.fit` is the method used to train the model.\n",
    "\n",
    "`x_train` and `y_trai` are the training data (input features and labels).\n",
    "\n",
    "`batch_size` is the number of samples processed in each iteration during training.\n",
    "\n",
    "`epochs` is the number of times the model will be trained on the entire training dataset.\n",
    "\n",
    "`verbose` controls the amount of information printed during training. Here, verbose=1 means that progress bars will be displayed.\n",
    "\n",
    "`validation_data` is optional but if provided, it specifies the data on which to evaluate the loss and any model metrics at the end of each epoch. In this case, it's using the test data (x_test and y_test) for validation.\n",
    "\n",
    "The training history, including loss and accuracy for both training and validation sets, is stored in the variable `hist`.\n",
    "\n",
    "Once the training is complete we are saving the model with name `mnist.h5`, The \".h5\" extension indicates that it's in the Hierarchical Data Format (HDF5), a common format for storing large amounts of numerical data."
   ]
  },
  {
   "cell_type": "code",
   "execution_count": 14,
   "metadata": {
    "colab": {
     "base_uri": "https://localhost:8080/"
    },
    "id": "eYz4YzxbuBQa",
    "outputId": "8188725c-3d9f-4cc6-a5ca-3df2a42bc66a"
   },
   "outputs": [
    {
     "name": "stdout",
     "output_type": "stream",
     "text": [
      "Epoch 1/10\n",
      "469/469 [==============================] - 50s 107ms/step - loss: 2.2844 - accuracy: 0.1600 - val_loss: 2.2500 - val_accuracy: 0.3800\n",
      "Epoch 2/10\n",
      "469/469 [==============================] - 44s 94ms/step - loss: 2.2284 - accuracy: 0.2758 - val_loss: 2.1798 - val_accuracy: 0.5841\n",
      "Epoch 3/10\n",
      "469/469 [==============================] - 43s 93ms/step - loss: 2.1511 - accuracy: 0.4052 - val_loss: 2.0760 - val_accuracy: 0.6607\n",
      "Epoch 4/10\n",
      "469/469 [==============================] - 52s 110ms/step - loss: 2.0335 - accuracy: 0.5034 - val_loss: 1.9165 - val_accuracy: 0.7076\n",
      "Epoch 5/10\n",
      "469/469 [==============================] - 50s 106ms/step - loss: 1.8588 - accuracy: 0.5692 - val_loss: 1.6835 - val_accuracy: 0.7603\n",
      "Epoch 6/10\n",
      "469/469 [==============================] - 55s 118ms/step - loss: 1.6257 - accuracy: 0.6184 - val_loss: 1.3957 - val_accuracy: 0.7874\n",
      "Epoch 7/10\n",
      "469/469 [==============================] - 52s 110ms/step - loss: 1.3762 - accuracy: 0.6546 - val_loss: 1.1203 - val_accuracy: 0.8121\n",
      "Epoch 8/10\n",
      "469/469 [==============================] - 52s 112ms/step - loss: 1.1650 - accuracy: 0.6877 - val_loss: 0.9081 - val_accuracy: 0.8306\n",
      "Epoch 9/10\n",
      "469/469 [==============================] - 52s 111ms/step - loss: 1.0057 - accuracy: 0.7163 - val_loss: 0.7606 - val_accuracy: 0.8423\n",
      "Epoch 10/10\n",
      "469/469 [==============================] - 53s 114ms/step - loss: 0.8955 - accuracy: 0.7387 - val_loss: 0.6612 - val_accuracy: 0.8525\n",
      "The model has successfully trained\n",
      "Saving the bot as mnist.h5\n"
     ]
    },
    {
     "name": "stderr",
     "output_type": "stream",
     "text": [
      "/Library/Frameworks/Python.framework/Versions/3.11/lib/python3.11/site-packages/keras/src/engine/training.py:3079: UserWarning: You are saving your model as an HDF5 file via `model.save()`. This file format is considered legacy. We recommend using instead the native Keras format, e.g. `model.save('my_model.keras')`.\n",
      "  saving_api.save_model(\n"
     ]
    }
   ],
   "source": [
    "hist = model.fit(x_train, y_train,batch_size=batch_size,epochs=epochs,verbose=1,validation_data=(x_test, y_test))\n",
    "print(\"The model has successfully trained\")\n",
    "model.save('mnist.h5')\n",
    "print(\"Saving the bot as mnist.h5\")"
   ]
  },
  {
   "cell_type": "markdown",
   "metadata": {
    "id": "0AJplCQZ5q0B"
   },
   "source": [
    "# Model Evaluation\n",
    "To evaluate how accurate our model works, we have around 10,000 images in our dataset. In the training of the data model, we do not include the testing data that’s why it is new data for our model.\n",
    "\n",
    "`model.evaluate` is used to evaluate the model on a given dataset.\n",
    "\n",
    "`x_test` and `y_test` are the test data (input features and labels).\n",
    "\n",
    "`verbose=0` means that no progress bar or additional information will be printed during evaluation."
   ]
  },
  {
   "cell_type": "code",
   "execution_count": 15,
   "metadata": {
    "id": "Y9RRgiTk379S"
   },
   "outputs": [
    {
     "name": "stdout",
     "output_type": "stream",
     "text": [
      "313/313 [==============================] - 2s 8ms/step - loss: 0.6612 - accuracy: 0.8525\n",
      "Test loss: 0.6612124443054199\n",
      "Test accuracy: 0.8525000214576721\n"
     ]
    }
   ],
   "source": [
    "score = model.evaluate(x_test, y_test, verbose=1)\n",
    "print('Test loss:', score[0])\n",
    "print('Test accuracy:', score[1])"
   ]
  },
  {
   "cell_type": "code",
   "execution_count": 16,
   "metadata": {},
   "outputs": [
    {
     "name": "stdout",
     "output_type": "stream",
     "text": [
      "1/1 [==============================] - 0s 68ms/step\n",
      "Sample 1: Actual Label = 1, Predicted Label = 1\n"
     ]
    },
    {
     "data": {
      "image/png": "[encoded data removed]",
      "text/plain": [
       "<Figure size 200x200 with 1 Axes>"
      ]
     },
     "metadata": {},
     "output_type": "display_data"
    },
    {
     "name": "stdout",
     "output_type": "stream",
     "text": [
      "1/1 [==============================] - 0s 10ms/step\n",
      "Sample 2: Actual Label = 4, Predicted Label = 4\n"
     ]
    },
    {
     "data": {
      "image/png": "[encoded data removed]",
      "text/plain": [
       "<Figure size 200x200 with 1 Axes>"
      ]
     },
     "metadata": {},
     "output_type": "display_data"
    },
    {
     "name": "stdout",
     "output_type": "stream",
     "text": [
      "1/1 [==============================] - 0s 8ms/step\n",
      "Sample 3: Actual Label = 3, Predicted Label = 3\n"
     ]
    },
    {
     "data": {
      "image/png": "[encoded data removed]",
      "text/plain": [
       "<Figure size 200x200 with 1 Axes>"
      ]
     },
     "metadata": {},
     "output_type": "display_data"
    },
    {
     "name": "stdout",
     "output_type": "stream",
     "text": [
      "1/1 [==============================] - 0s 28ms/step\n",
      "Sample 4: Actual Label = 9, Predicted Label = 9\n"
     ]
    },
    {
     "data": {
      "image/png": "[encoded data removed]",
      "text/plain": [
       "<Figure size 200x200 with 1 Axes>"
      ]
     },
     "metadata": {},
     "output_type": "display_data"
    },
    {
     "name": "stdout",
     "output_type": "stream",
     "text": [
      "1/1 [==============================] - 0s 9ms/step\n",
      "Sample 5: Actual Label = 9, Predicted Label = 9\n"
     ]
    },
    {
     "data": {
      "image/png": "[encoded data removed]",
      "text/plain": [
       "<Figure size 200x200 with 1 Axes>"
      ]
     },
     "metadata": {},
     "output_type": "display_data"
    },
    {
     "name": "stdout",
     "output_type": "stream",
     "text": [
      "1/1 [==============================] - 0s 8ms/step\n",
      "Sample 6: Actual Label = 1, Predicted Label = 1\n"
     ]
    },
    {
     "data": {
      "image/png": "[encoded data removed]",
      "text/plain": [
       "<Figure size 200x200 with 1 Axes>"
      ]
     },
     "metadata": {},
     "output_type": "display_data"
    },
    {
     "name": "stdout",
     "output_type": "stream",
     "text": [
      "1/1 [==============================] - 0s 9ms/step\n",
      "Sample 7: Actual Label = 4, Predicted Label = 4\n"
     ]
    },
    {
     "data": {
      "image/png": "[encoded data removed]",
      "text/plain": [
       "<Figure size 200x200 with 1 Axes>"
      ]
     },
     "metadata": {},
     "output_type": "display_data"
    },
    {
     "name": "stdout",
     "output_type": "stream",
     "text": [
      "1/1 [==============================] - 0s 8ms/step\n",
      "Sample 8: Actual Label = 2, Predicted Label = 2\n"
     ]
    },
    {
     "data": {
      "image/png": "[encoded data removed]",
      "text/plain": [
       "<Figure size 200x200 with 1 Axes>"
      ]
     },
     "metadata": {},
     "output_type": "display_data"
    },
    {
     "name": "stdout",
     "output_type": "stream",
     "text": [
      "1/1 [==============================] - 0s 8ms/step\n",
      "Sample 9: Actual Label = 9, Predicted Label = 9\n"
     ]
    },
    {
     "data": {
      "image/png": "[encoded data removed]",
      "text/plain": [
       "<Figure size 200x200 with 1 Axes>"
      ]
     },
     "metadata": {},
     "output_type": "display_data"
    },
    {
     "name": "stdout",
     "output_type": "stream",
     "text": [
      "1/1 [==============================] - 0s 8ms/step\n",
      "Sample 10: Actual Label = 2, Predicted Label = 2\n"
     ]
    },
    {
     "data": {
      "image/png": "[encoded data removed]",
      "text/plain": [
       "<Figure size 200x200 with 1 Axes>"
      ]
     },
     "metadata": {},
     "output_type": "display_data"
    }
   ],
   "source": [
    "import numpy as np\n",
    "num_samples = 10\n",
    "sample_indices = np.random.choice(len(x_test), num_samples, replace=False)\n",
    "\n",
    "for i, idx in enumerate(sample_indices):\n",
    "    sample_img = x_test[idx]\n",
    "    sample_label = y_test[idx]\n",
    "    \n",
    "    sample_img_reshaped = sample_img.reshape(1, 28, 28, 1)\n",
    "    \n",
    "    predicted_label = model.predict(sample_img_reshaped)\n",
    "    predicted_digit = np.argmax(predicted_label)\n",
    "    \n",
    "    print(f\"Sample {i + 1}: Actual Label = {np.argmax(sample_label)}, Predicted Label = {predicted_digit}\")\n",
    "    \n",
    "\n",
    "    plt.figure(figsize=(2, 2))\n",
    "    plt.imshow(sample_img.reshape(28, 28), cmap='gray')\n",
    "    plt.title(f\"Actual: {np.argmax(sample_label)}, Predicted: {predicted_digit}\")\n",
    "    plt.show()"
   ]
  },
  {
   "cell_type": "markdown",
   "metadata": {
    "id": "-8viFjek6L3P"
   },
   "source": [
    "The test loss indicates how well the model's predictions match the true labels, and the test accuracy represents the percentage of correctly classified samples in the test dataset."
   ]
  },
  {
   "cell_type": "code",
   "execution_count": 17,
   "metadata": {},
   "outputs": [
    {
     "data": {
      "image/png": "[encoded data removed]",
      "text/plain": [
       "<Figure size 640x480 with 1 Axes>"
      ]
     },
     "metadata": {},
     "output_type": "display_data"
    }
   ],
   "source": [
    "plt.plot(hist.history['accuracy'], label='Training Accuracy', color='blue')\n",
    "plt.plot(hist.history['val_accuracy'], label='Validation Accuracy', color='orange')\n",
    "plt.title('Model Categorical Accuracy')\n",
    "plt.xlabel('Epoch')\n",
    "plt.ylabel('Categorical Accuracy')\n",
    "plt.legend()\n",
    "plt.show()"
   ]
  },
  {
   "cell_type": "markdown",
   "metadata": {
    "id": "CAUmWlUj6Svz"
   },
   "source": [
    "# Predicting Digits using our model and User Interface"
   ]
  },
  {
   "cell_type": "code",
   "execution_count": 18,
   "metadata": {},
   "outputs": [
    {
     "name": "stderr",
     "output_type": "stream",
     "text": [
      "WARNING:absl:At this time, the v2.11+ optimizer `tf.keras.optimizers.Adadelta` runs slowly on M1/M2 Macs, please use the legacy Keras optimizer instead, located at `tf.keras.optimizers.legacy.Adadelta`.\n",
      "2023-12-11 02:16:08.551 Python[5573:3338214] WARNING: Secure coding is not enabled for restorable state! Enable secure coding by implementing NSApplicationDelegate.applicationSupportsSecureRestorableState: and returning YES.\n"
     ]
    }
   ],
   "source": [
    "import tkinter as tk\n",
    "from PIL import Image, ImageDraw, ImageTk, ImageFilter\n",
    "import numpy as np\n",
    "from keras.models import load_model\n",
    "\n",
    "model = load_model('mnist.h5')\n",
    "\n",
    "def predict_digit(img):\n",
    "    img_resized = img.resize((28, 28))\n",
    "    \n",
    "    # convert rgb to grayscale\n",
    "    img_gray = img_resized.convert('L')\n",
    "    img_sharpened = img_gray.filter(ImageFilter.UnsharpMask(radius=2, percent=150, threshold=3))\n",
    "    \n",
    "    img_array = np.array(img_sharpened)\n",
    "    \n",
    "    # reshaping for model normalization\n",
    "    img_reshaped = img_array.reshape(1, 28, 28, 1)\n",
    "    img_normalized = img_reshaped / 255.0\n",
    "    \n",
    "    # predicting the class\n",
    "    res = model.predict([img_normalized])[0]\n",
    "    return np.argmax(res), max(res)\n",
    "\n",
    "canvas_width, canvas_height = 400, 400\n",
    "drawing = False\n",
    "last_x, last_y = 0, 0\n",
    "\n",
    "canvas_img = Image.new('RGB', (canvas_width, canvas_height), (0, 0, 0))\n",
    "draw = ImageDraw.Draw(canvas_img)\n",
    "\n",
    "def start_drawing(event):\n",
    "    global drawing, last_x, last_y\n",
    "    drawing = True\n",
    "    last_x, last_y = event.x, event.y\n",
    "\n",
    "def draw_line(event):\n",
    "    global drawing, last_x, last_y\n",
    "    if drawing:\n",
    "        line_width = 45\n",
    "        points = interpolate_points(last_x, last_y, event.x, event.y)\n",
    "        for point in points:\n",
    "            draw.ellipse([point[0]-line_width//2, point[1]-line_width//2,\n",
    "                          point[0]+line_width//2, point[1]+line_width//2], fill='white')\n",
    "        last_x, last_y = event.x, event.y\n",
    "        update_canvas()\n",
    "\n",
    "def stop_drawing(event):\n",
    "    global drawing\n",
    "    drawing = False\n",
    "\n",
    "def update_canvas():\n",
    "    img_tk = ImageTk.PhotoImage(canvas_img)\n",
    "    canvas.img_tk = img_tk\n",
    "    canvas.create_image(0, 0, anchor=tk.NW, image=img_tk)\n",
    "\n",
    "def interpolate_points(x1, y1, x2, y2):\n",
    "    steps = max(abs(x2 - x1), abs(y2 - y1))\n",
    "    x, y = np.linspace(x1, x2, steps), np.linspace(y1, y2, steps)\n",
    "    points = list(map(lambda x, y: (int(x), int(y)), x, y))\n",
    "    return points\n",
    "\n",
    "def clear_drawing():\n",
    "    global canvas_img, draw\n",
    "    canvas_img = Image.new('RGB', (canvas_width, canvas_height), (0, 0, 0))\n",
    "    draw = ImageDraw.Draw(canvas_img)\n",
    "    canvas.delete(\"all\")\n",
    "\n",
    "def predict_and_display():\n",
    "    digit, percentage = predict_digit(canvas_img)\n",
    "    result_label.config(text=f\"Prediction: {digit}\\nConfidence: {percentage:.2%}\")\n",
    "\n",
    "root = tk.Tk()\n",
    "root.title(\"Digit Recognizer\")\n",
    "\n",
    "canvas = tk.Canvas(root, width=canvas_width, height=canvas_height, bg=\"black\")\n",
    "canvas.pack()\n",
    "\n",
    "clear_button = tk.Button(root, text=\"Clear Drawing\", command=clear_drawing)\n",
    "clear_button.pack(side=tk.LEFT, padx=10)\n",
    "\n",
    "predict_button = tk.Button(root, text=\"Predict Digit\", command=predict_and_display)\n",
    "predict_button.pack(side=tk.RIGHT, padx=10)\n",
    "\n",
    "result_label = tk.Label(root, text=\"\")\n",
    "result_label.pack(pady=10)\n",
    "\n",
    "canvas.bind(\"<B1-Motion>\", draw_line)\n",
    "canvas.bind(\"<Button-1>\", start_drawing)\n",
    "canvas.bind(\"<ButtonRelease-1>\", stop_drawing)\n",
    "\n",
    "root.mainloop()\n"
   ]
  },
  {
   "cell_type": "code",
   "execution_count": null,
   "metadata": {},
   "outputs": [],
   "source": []
  }
 ],
 "metadata": {
  "colab": {
   "provenance": []
  },
  "kernelspec": {
   "display_name": "Python 3 (ipykernel)",
   "language": "python",
   "name": "python3"
  },
  "language_info": {
   "codemirror_mode": {
    "name": "ipython",
    "version": 3
   },
   "file_extension": ".py",
   "mimetype": "text/x-python",
   "name": "python",
   "nbconvert_exporter": "python",
   "pygments_lexer": "ipython3",
   "version": "3.11.5"
  }
 },
 "nbformat": 4,
 "nbformat_minor": 4
}
